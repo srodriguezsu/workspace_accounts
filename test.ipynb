{
 "cells": [
  {
   "cell_type": "code",
   "execution_count": null,
   "id": "initial_id",
   "metadata": {
    "collapsed": true
   },
   "outputs": [],
   "source": []
  },
  {
   "cell_type": "code",
   "outputs": [
    {
     "name": "stdout",
     "output_type": "stream",
     "text": [
      "Index(['First Name [Required]', 'Last Name [Required]',\n",
      "       'Email Address [Required]', 'Password [Required]',\n",
      "       'Org Unit Path [Required]', 'Work Secondary Email',\n",
      "       'Recovery Phone [MUST BE IN THE E.164 FORMAT]', 'Work Phone',\n",
      "       'Change Password at Next Sign-In',\n",
      "       'Advanced Protection Program enrollment'],\n",
      "      dtype='object')\n"
     ]
    },
    {
     "data": {
      "text/plain": "    First Name [Required]      Last Name [Required]  \\\n896              RECTORIA  IE GERARDO VALENCIA CANO   \n\n              Email Address [Required] Password [Required]  \\\n896  rectoria@iegerardovalencia.edu.co                ****   \n\n    Org Unit Path [Required]      Work Secondary Email  \\\n896                        /  akrosacademico@gmail.com   \n\n     Recovery Phone [MUST BE IN THE E.164 FORMAT]    Work Phone  \\\n896                                           NaN  3.127698e+09   \n\n     Change Password at Next Sign-In  Advanced Protection Program enrollment  \n896                            False                                   False  ",
      "text/html": "<div>\n<style scoped>\n    .dataframe tbody tr th:only-of-type {\n        vertical-align: middle;\n    }\n\n    .dataframe tbody tr th {\n        vertical-align: top;\n    }\n\n    .dataframe thead th {\n        text-align: right;\n    }\n</style>\n<table border=\"1\" class=\"dataframe\">\n  <thead>\n    <tr style=\"text-align: right;\">\n      <th></th>\n      <th>First Name [Required]</th>\n      <th>Last Name [Required]</th>\n      <th>Email Address [Required]</th>\n      <th>Password [Required]</th>\n      <th>Org Unit Path [Required]</th>\n      <th>Work Secondary Email</th>\n      <th>Recovery Phone [MUST BE IN THE E.164 FORMAT]</th>\n      <th>Work Phone</th>\n      <th>Change Password at Next Sign-In</th>\n      <th>Advanced Protection Program enrollment</th>\n    </tr>\n  </thead>\n  <tbody>\n    <tr>\n      <th>896</th>\n      <td>RECTORIA</td>\n      <td>IE GERARDO VALENCIA CANO</td>\n      <td>rectoria@iegerardovalencia.edu.co</td>\n      <td>****</td>\n      <td>/</td>\n      <td>akrosacademico@gmail.com</td>\n      <td>NaN</td>\n      <td>3.127698e+09</td>\n      <td>False</td>\n      <td>False</td>\n    </tr>\n  </tbody>\n</table>\n</div>"
     },
     "execution_count": 4,
     "metadata": {},
     "output_type": "execute_result"
    }
   ],
   "source": [
    "import pandas\n",
    "\n",
    "df = pandas.read_csv('users.csv')\n",
    "df.dropna(axis=1, inplace=True, how='all')\n",
    "print(df.columns)\n",
    "df[df['Work Secondary Email'].notnull()]\n"
   ],
   "metadata": {
    "collapsed": false,
    "ExecuteTime": {
     "end_time": "2025-02-17T13:47:57.075624100Z",
     "start_time": "2025-02-17T13:47:56.973570100Z"
    }
   },
   "id": "84fdd11a3d6aeca7",
   "execution_count": 4
  },
  {
   "cell_type": "code",
   "outputs": [
    {
     "data": {
      "text/plain": "  First Name [Required] Last Name [Required]  \\\n0            Aaron Zaid         Pino Cordoba   \n1           Abel Jacobo    Valencia Betancur   \n2       Abraham Eduardo        Bastidas Cova   \n3         Abraham Josue      Suarez Carrasco   \n4        Adelaida Mar a    Saldarriaga Mu oz   \n\n                            Email Address [Required] Password [Required]  \\\n0          aaron.pinoc@iemonsegerardovalencia.edu.co                ****   \n1       abel.valenciab@iemonsegerardovalencia.edu.co                ****   \n2    abraham.bastidasc@iemonsegerardovalencia.edu.co                ****   \n3      abraham.suarezc@iemonsegerardovalencia.edu.co                ****   \n4  adelaida.saldarriaga@iemonsegerardovalencia.ed...                ****   \n\n  Org Unit Path [Required] Work Secondary Email  \\\n0                        /                  NaN   \n1                        /                  NaN   \n2                        /                  NaN   \n3                        /                  NaN   \n4                        /                  NaN   \n\n   Recovery Phone [MUST BE IN THE E.164 FORMAT]  Work Phone  \\\n0                                           NaN         NaN   \n1                                           NaN         NaN   \n2                                           NaN         NaN   \n3                                           NaN         NaN   \n4                                           NaN         NaN   \n\n   Change Password at Next Sign-In  Advanced Protection Program enrollment  \n0                             True                                   False  \n1                             True                                   False  \n2                             True                                   False  \n3                             True                                   False  \n4                             True                                   False  ",
      "text/html": "<div>\n<style scoped>\n    .dataframe tbody tr th:only-of-type {\n        vertical-align: middle;\n    }\n\n    .dataframe tbody tr th {\n        vertical-align: top;\n    }\n\n    .dataframe thead th {\n        text-align: right;\n    }\n</style>\n<table border=\"1\" class=\"dataframe\">\n  <thead>\n    <tr style=\"text-align: right;\">\n      <th></th>\n      <th>First Name [Required]</th>\n      <th>Last Name [Required]</th>\n      <th>Email Address [Required]</th>\n      <th>Password [Required]</th>\n      <th>Org Unit Path [Required]</th>\n      <th>Work Secondary Email</th>\n      <th>Recovery Phone [MUST BE IN THE E.164 FORMAT]</th>\n      <th>Work Phone</th>\n      <th>Change Password at Next Sign-In</th>\n      <th>Advanced Protection Program enrollment</th>\n    </tr>\n  </thead>\n  <tbody>\n    <tr>\n      <th>0</th>\n      <td>Aaron Zaid</td>\n      <td>Pino Cordoba</td>\n      <td>aaron.pinoc@iemonsegerardovalencia.edu.co</td>\n      <td>****</td>\n      <td>/</td>\n      <td>NaN</td>\n      <td>NaN</td>\n      <td>NaN</td>\n      <td>True</td>\n      <td>False</td>\n    </tr>\n    <tr>\n      <th>1</th>\n      <td>Abel Jacobo</td>\n      <td>Valencia Betancur</td>\n      <td>abel.valenciab@iemonsegerardovalencia.edu.co</td>\n      <td>****</td>\n      <td>/</td>\n      <td>NaN</td>\n      <td>NaN</td>\n      <td>NaN</td>\n      <td>True</td>\n      <td>False</td>\n    </tr>\n    <tr>\n      <th>2</th>\n      <td>Abraham Eduardo</td>\n      <td>Bastidas Cova</td>\n      <td>abraham.bastidasc@iemonsegerardovalencia.edu.co</td>\n      <td>****</td>\n      <td>/</td>\n      <td>NaN</td>\n      <td>NaN</td>\n      <td>NaN</td>\n      <td>True</td>\n      <td>False</td>\n    </tr>\n    <tr>\n      <th>3</th>\n      <td>Abraham Josue</td>\n      <td>Suarez Carrasco</td>\n      <td>abraham.suarezc@iemonsegerardovalencia.edu.co</td>\n      <td>****</td>\n      <td>/</td>\n      <td>NaN</td>\n      <td>NaN</td>\n      <td>NaN</td>\n      <td>True</td>\n      <td>False</td>\n    </tr>\n    <tr>\n      <th>4</th>\n      <td>Adelaida Mar a</td>\n      <td>Saldarriaga Mu oz</td>\n      <td>adelaida.saldarriaga@iemonsegerardovalencia.ed...</td>\n      <td>****</td>\n      <td>/</td>\n      <td>NaN</td>\n      <td>NaN</td>\n      <td>NaN</td>\n      <td>True</td>\n      <td>False</td>\n    </tr>\n  </tbody>\n</table>\n</div>"
     },
     "execution_count": 3,
     "metadata": {},
     "output_type": "execute_result"
    }
   ],
   "source": [
    "df.head()"
   ],
   "metadata": {
    "collapsed": false,
    "ExecuteTime": {
     "end_time": "2025-02-17T13:47:22.559861600Z",
     "start_time": "2025-02-17T13:47:22.530187Z"
    }
   },
   "id": "5bedf352f6adca2e",
   "execution_count": 3
  },
  {
   "cell_type": "code",
   "outputs": [
    {
     "data": {
      "text/plain": "1"
     },
     "execution_count": 7,
     "metadata": {},
     "output_type": "execute_result"
    }
   ],
   "source": [
    "3//2"
   ],
   "metadata": {
    "collapsed": false,
    "ExecuteTime": {
     "end_time": "2025-02-17T14:17:08.298836Z",
     "start_time": "2025-02-17T14:17:08.292759500Z"
    }
   },
   "id": "1c41ce5420c808b4",
   "execution_count": 7
  }
 ],
 "metadata": {
  "kernelspec": {
   "display_name": "Python 3",
   "language": "python",
   "name": "python3"
  },
  "language_info": {
   "codemirror_mode": {
    "name": "ipython",
    "version": 2
   },
   "file_extension": ".py",
   "mimetype": "text/x-python",
   "name": "python",
   "nbconvert_exporter": "python",
   "pygments_lexer": "ipython2",
   "version": "2.7.6"
  }
 },
 "nbformat": 4,
 "nbformat_minor": 5
}
