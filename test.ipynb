{
 "cells": [
  {
   "cell_type": "code",
   "execution_count": null,
   "id": "initial_id",
   "metadata": {
    "collapsed": true
   },
   "outputs": [],
   "source": []
  },
  {
   "cell_type": "code",
   "outputs": [
    {
     "name": "stdout",
     "output_type": "stream",
     "text": [
      "Index(['First Name [Required]', 'Last Name [Required]',\n",
      "       'Email Address [Required]', 'Password [Required]',\n",
      "       'Org Unit Path [Required]', 'Work Secondary Email',\n",
      "       'Recovery Phone [MUST BE IN THE E.164 FORMAT]', 'Work Phone',\n",
      "       'Change Password at Next Sign-In',\n",
      "       'Advanced Protection Program enrollment'],\n",
      "      dtype='object')\n"
     ]
    },
    {
     "data": {
      "text/plain": "    First Name [Required]      Last Name [Required]  \\\n896              RECTORIA  IE GERARDO VALENCIA CANO   \n\n              Email Address [Required] Password [Required]  \\\n896  rectoria@iegerardovalencia.edu.co                ****   \n\n    Org Unit Path [Required]      Work Secondary Email  \\\n896                        /  akrosacademico@gmail.com   \n\n     Recovery Phone [MUST BE IN THE E.164 FORMAT]    Work Phone  \\\n896                                           NaN  3.127698e+09   \n\n     Change Password at Next Sign-In  Advanced Protection Program enrollment  \n896                            False                                   False  ",
      "text/html": "<div>\n<style scoped>\n    .dataframe tbody tr th:only-of-type {\n        vertical-align: middle;\n    }\n\n    .dataframe tbody tr th {\n        vertical-align: top;\n    }\n\n    .dataframe thead th {\n        text-align: right;\n    }\n</style>\n<table border=\"1\" class=\"dataframe\">\n  <thead>\n    <tr style=\"text-align: right;\">\n      <th></th>\n      <th>First Name [Required]</th>\n      <th>Last Name [Required]</th>\n      <th>Email Address [Required]</th>\n      <th>Password [Required]</th>\n      <th>Org Unit Path [Required]</th>\n      <th>Work Secondary Email</th>\n      <th>Recovery Phone [MUST BE IN THE E.164 FORMAT]</th>\n      <th>Work Phone</th>\n      <th>Change Password at Next Sign-In</th>\n      <th>Advanced Protection Program enrollment</th>\n    </tr>\n  </thead>\n  <tbody>\n    <tr>\n      <th>896</th>\n      <td>RECTORIA</td>\n      <td>IE GERARDO VALENCIA CANO</td>\n      <td>rectoria@iegerardovalencia.edu.co</td>\n      <td>****</td>\n      <td>/</td>\n      <td>akrosacademico@gmail.com</td>\n      <td>NaN</td>\n      <td>3.127698e+09</td>\n      <td>False</td>\n      <td>False</td>\n    </tr>\n  </tbody>\n</table>\n</div>"
     },
     "execution_count": 12,
     "metadata": {},
     "output_type": "execute_result"
    }
   ],
   "source": [
    "import pandas\n",
    "\n",
    "downloaded = pandas.read_csv('users.csv')\n",
    "downloaded.dropna(axis=1, inplace=True, how='all')\n",
    "print(downloaded.columns)\n",
    "downloaded[downloaded['Work Secondary Email'].notnull()]\n"
   ],
   "metadata": {
    "collapsed": false,
    "ExecuteTime": {
     "end_time": "2025-02-17T15:21:58.413971900Z",
     "start_time": "2025-02-17T15:21:58.336013800Z"
    }
   },
   "id": "84fdd11a3d6aeca7",
   "execution_count": 12
  },
  {
   "cell_type": "code",
   "outputs": [
    {
     "data": {
      "text/plain": "  First Name [Required] Last Name [Required]  \\\n0            Aaron Zaid         Pino Cordoba   \n1           Abel Jacobo    Valencia Betancur   \n2       Abraham Eduardo        Bastidas Cova   \n3         Abraham Josue      Suarez Carrasco   \n4        Adelaida Mar a    Saldarriaga Mu oz   \n\n                            Email Address [Required] Password [Required]  \\\n0          aaron.pinoc@iemonsegerardovalencia.edu.co                ****   \n1       abel.valenciab@iemonsegerardovalencia.edu.co                ****   \n2    abraham.bastidasc@iemonsegerardovalencia.edu.co                ****   \n3      abraham.suarezc@iemonsegerardovalencia.edu.co                ****   \n4  adelaida.saldarriaga@iemonsegerardovalencia.ed...                ****   \n\n  Org Unit Path [Required] Work Secondary Email  \\\n0                        /                  NaN   \n1                        /                  NaN   \n2                        /                  NaN   \n3                        /                  NaN   \n4                        /                  NaN   \n\n   Recovery Phone [MUST BE IN THE E.164 FORMAT]  Work Phone  \\\n0                                           NaN         NaN   \n1                                           NaN         NaN   \n2                                           NaN         NaN   \n3                                           NaN         NaN   \n4                                           NaN         NaN   \n\n   Change Password at Next Sign-In  Advanced Protection Program enrollment  \n0                             True                                   False  \n1                             True                                   False  \n2                             True                                   False  \n3                             True                                   False  \n4                             True                                   False  ",
      "text/html": "<div>\n<style scoped>\n    .dataframe tbody tr th:only-of-type {\n        vertical-align: middle;\n    }\n\n    .dataframe tbody tr th {\n        vertical-align: top;\n    }\n\n    .dataframe thead th {\n        text-align: right;\n    }\n</style>\n<table border=\"1\" class=\"dataframe\">\n  <thead>\n    <tr style=\"text-align: right;\">\n      <th></th>\n      <th>First Name [Required]</th>\n      <th>Last Name [Required]</th>\n      <th>Email Address [Required]</th>\n      <th>Password [Required]</th>\n      <th>Org Unit Path [Required]</th>\n      <th>Work Secondary Email</th>\n      <th>Recovery Phone [MUST BE IN THE E.164 FORMAT]</th>\n      <th>Work Phone</th>\n      <th>Change Password at Next Sign-In</th>\n      <th>Advanced Protection Program enrollment</th>\n    </tr>\n  </thead>\n  <tbody>\n    <tr>\n      <th>0</th>\n      <td>Aaron Zaid</td>\n      <td>Pino Cordoba</td>\n      <td>aaron.pinoc@iemonsegerardovalencia.edu.co</td>\n      <td>****</td>\n      <td>/</td>\n      <td>NaN</td>\n      <td>NaN</td>\n      <td>NaN</td>\n      <td>True</td>\n      <td>False</td>\n    </tr>\n    <tr>\n      <th>1</th>\n      <td>Abel Jacobo</td>\n      <td>Valencia Betancur</td>\n      <td>abel.valenciab@iemonsegerardovalencia.edu.co</td>\n      <td>****</td>\n      <td>/</td>\n      <td>NaN</td>\n      <td>NaN</td>\n      <td>NaN</td>\n      <td>True</td>\n      <td>False</td>\n    </tr>\n    <tr>\n      <th>2</th>\n      <td>Abraham Eduardo</td>\n      <td>Bastidas Cova</td>\n      <td>abraham.bastidasc@iemonsegerardovalencia.edu.co</td>\n      <td>****</td>\n      <td>/</td>\n      <td>NaN</td>\n      <td>NaN</td>\n      <td>NaN</td>\n      <td>True</td>\n      <td>False</td>\n    </tr>\n    <tr>\n      <th>3</th>\n      <td>Abraham Josue</td>\n      <td>Suarez Carrasco</td>\n      <td>abraham.suarezc@iemonsegerardovalencia.edu.co</td>\n      <td>****</td>\n      <td>/</td>\n      <td>NaN</td>\n      <td>NaN</td>\n      <td>NaN</td>\n      <td>True</td>\n      <td>False</td>\n    </tr>\n    <tr>\n      <th>4</th>\n      <td>Adelaida Mar a</td>\n      <td>Saldarriaga Mu oz</td>\n      <td>adelaida.saldarriaga@iemonsegerardovalencia.ed...</td>\n      <td>****</td>\n      <td>/</td>\n      <td>NaN</td>\n      <td>NaN</td>\n      <td>NaN</td>\n      <td>True</td>\n      <td>False</td>\n    </tr>\n  </tbody>\n</table>\n</div>"
     },
     "execution_count": 3,
     "metadata": {},
     "output_type": "execute_result"
    }
   ],
   "source": [
    "downloaded.head()"
   ],
   "metadata": {
    "collapsed": false,
    "ExecuteTime": {
     "end_time": "2025-02-17T13:47:22.559861600Z",
     "start_time": "2025-02-17T13:47:22.530187Z"
    }
   },
   "id": "5bedf352f6adca2e",
   "execution_count": 3
  },
  {
   "cell_type": "code",
   "outputs": [
    {
     "data": {
      "text/plain": "     First Name [Required] Last Name [Required]  \\\n0                 Jeronimo         Acosta Ochoa   \n1                Aura Elid      Alvarez Vergara   \n2                  Celeste    Bustamante Zapata   \n3                    Belen      Watts Cañaveral   \n4                   Matias       Garro Monsalve   \n...                    ...                  ...   \n1884         Jeinner David         Ojeda Rosero   \n1885              Emmanuel       Barrera Osorio   \n1886         Claudia Sofia      Muelas Martinez   \n1887     Eduhiber Santiago      Linares Linares   \n1888             Sebastian         Alzate Usuga   \n\n                          Email Address [Required] Org Unit Path [Required]  \\\n0        jeronimo.acostao@iegerardovalencia.edu.co                        /   \n1           aura.alvarezv@iegerardovalencia.edu.co                        /   \n2     celeste.bustamantez@iegerardovalencia.edu.co                        /   \n3            belen.wattsc@iegerardovalencia.edu.co                        /   \n4           matias.garrom@iegerardovalencia.edu.co                        /   \n...                                            ...                      ...   \n1884       jeinner.ojedar@iegerardovalencia.edu.co                        /   \n1885    emmanuel.barrerao@iegerardovalencia.edu.co                        /   \n1886      claudia.muelasm@iegerardovalencia.edu.co                        /   \n1887    eduhiber.linaresl@iegerardovalencia.edu.co                        /   \n1888    sebastian.alzateu@iegerardovalencia.edu.co                        /   \n\n      Password [Required]  Change Password at Next Sign-In  \n0              1013365937                             True  \n1              1021945299                             True  \n2              1018270322                             True  \n3              1021944857                             True  \n4              1025907434                             True  \n...                   ...                              ...  \n1884           1114247422                             True  \n1885           1017940816                             True  \n1886           1112059610                             True  \n1887          12022025953                             True  \n1888           1018268464                             True  \n\n[1889 rows x 6 columns]",
      "text/html": "<div>\n<style scoped>\n    .dataframe tbody tr th:only-of-type {\n        vertical-align: middle;\n    }\n\n    .dataframe tbody tr th {\n        vertical-align: top;\n    }\n\n    .dataframe thead th {\n        text-align: right;\n    }\n</style>\n<table border=\"1\" class=\"dataframe\">\n  <thead>\n    <tr style=\"text-align: right;\">\n      <th></th>\n      <th>First Name [Required]</th>\n      <th>Last Name [Required]</th>\n      <th>Email Address [Required]</th>\n      <th>Org Unit Path [Required]</th>\n      <th>Password [Required]</th>\n      <th>Change Password at Next Sign-In</th>\n    </tr>\n  </thead>\n  <tbody>\n    <tr>\n      <th>0</th>\n      <td>Jeronimo</td>\n      <td>Acosta Ochoa</td>\n      <td>jeronimo.acostao@iegerardovalencia.edu.co</td>\n      <td>/</td>\n      <td>1013365937</td>\n      <td>True</td>\n    </tr>\n    <tr>\n      <th>1</th>\n      <td>Aura Elid</td>\n      <td>Alvarez Vergara</td>\n      <td>aura.alvarezv@iegerardovalencia.edu.co</td>\n      <td>/</td>\n      <td>1021945299</td>\n      <td>True</td>\n    </tr>\n    <tr>\n      <th>2</th>\n      <td>Celeste</td>\n      <td>Bustamante Zapata</td>\n      <td>celeste.bustamantez@iegerardovalencia.edu.co</td>\n      <td>/</td>\n      <td>1018270322</td>\n      <td>True</td>\n    </tr>\n    <tr>\n      <th>3</th>\n      <td>Belen</td>\n      <td>Watts Cañaveral</td>\n      <td>belen.wattsc@iegerardovalencia.edu.co</td>\n      <td>/</td>\n      <td>1021944857</td>\n      <td>True</td>\n    </tr>\n    <tr>\n      <th>4</th>\n      <td>Matias</td>\n      <td>Garro Monsalve</td>\n      <td>matias.garrom@iegerardovalencia.edu.co</td>\n      <td>/</td>\n      <td>1025907434</td>\n      <td>True</td>\n    </tr>\n    <tr>\n      <th>...</th>\n      <td>...</td>\n      <td>...</td>\n      <td>...</td>\n      <td>...</td>\n      <td>...</td>\n      <td>...</td>\n    </tr>\n    <tr>\n      <th>1884</th>\n      <td>Jeinner David</td>\n      <td>Ojeda Rosero</td>\n      <td>jeinner.ojedar@iegerardovalencia.edu.co</td>\n      <td>/</td>\n      <td>1114247422</td>\n      <td>True</td>\n    </tr>\n    <tr>\n      <th>1885</th>\n      <td>Emmanuel</td>\n      <td>Barrera Osorio</td>\n      <td>emmanuel.barrerao@iegerardovalencia.edu.co</td>\n      <td>/</td>\n      <td>1017940816</td>\n      <td>True</td>\n    </tr>\n    <tr>\n      <th>1886</th>\n      <td>Claudia Sofia</td>\n      <td>Muelas Martinez</td>\n      <td>claudia.muelasm@iegerardovalencia.edu.co</td>\n      <td>/</td>\n      <td>1112059610</td>\n      <td>True</td>\n    </tr>\n    <tr>\n      <th>1887</th>\n      <td>Eduhiber Santiago</td>\n      <td>Linares Linares</td>\n      <td>eduhiber.linaresl@iegerardovalencia.edu.co</td>\n      <td>/</td>\n      <td>12022025953</td>\n      <td>True</td>\n    </tr>\n    <tr>\n      <th>1888</th>\n      <td>Sebastian</td>\n      <td>Alzate Usuga</td>\n      <td>sebastian.alzateu@iegerardovalencia.edu.co</td>\n      <td>/</td>\n      <td>1018268464</td>\n      <td>True</td>\n    </tr>\n  </tbody>\n</table>\n<p>1889 rows × 6 columns</p>\n</div>"
     },
     "execution_count": 8,
     "metadata": {},
     "output_type": "execute_result"
    }
   ],
   "source": [
    "created = pandas.read_csv('new_students.csv')\n",
    "created"
   ],
   "metadata": {
    "collapsed": false,
    "ExecuteTime": {
     "end_time": "2025-02-17T15:17:03.268607800Z",
     "start_time": "2025-02-17T15:17:02.346414200Z"
    }
   },
   "id": "1c41ce5420c808b4",
   "execution_count": 8
  },
  {
   "cell_type": "code",
   "outputs": [
    {
     "data": {
      "text/plain": "                               Full Name\n0     Gregorio Emanuel Guerrero Sandoval\n1             I.E. Gerardo Valencia Cano\n2         Dulce Maria Castrillon Morales\n3     Leonelis Victoria Fernandez Araujo\n4                 Mariangel Avila Cortes\n...                                  ...\n1546                   Esteban Soto Juan\n1547          Juan Felipe Berrocal Genes\n1548      Roiner Santiago Carrillo Riera\n1549         Hanna Isabella Algarin Diaz\n1550             Allison Garcia Mosquera\n\n[1551 rows x 1 columns]",
      "text/html": "<div>\n<style scoped>\n    .dataframe tbody tr th:only-of-type {\n        vertical-align: middle;\n    }\n\n    .dataframe tbody tr th {\n        vertical-align: top;\n    }\n\n    .dataframe thead th {\n        text-align: right;\n    }\n</style>\n<table border=\"1\" class=\"dataframe\">\n  <thead>\n    <tr style=\"text-align: right;\">\n      <th></th>\n      <th>Full Name</th>\n    </tr>\n  </thead>\n  <tbody>\n    <tr>\n      <th>0</th>\n      <td>Gregorio Emanuel Guerrero Sandoval</td>\n    </tr>\n    <tr>\n      <th>1</th>\n      <td>I.E. Gerardo Valencia Cano</td>\n    </tr>\n    <tr>\n      <th>2</th>\n      <td>Dulce Maria Castrillon Morales</td>\n    </tr>\n    <tr>\n      <th>3</th>\n      <td>Leonelis Victoria Fernandez Araujo</td>\n    </tr>\n    <tr>\n      <th>4</th>\n      <td>Mariangel Avila Cortes</td>\n    </tr>\n    <tr>\n      <th>...</th>\n      <td>...</td>\n    </tr>\n    <tr>\n      <th>1546</th>\n      <td>Esteban Soto Juan</td>\n    </tr>\n    <tr>\n      <th>1547</th>\n      <td>Juan Felipe Berrocal Genes</td>\n    </tr>\n    <tr>\n      <th>1548</th>\n      <td>Roiner Santiago Carrillo Riera</td>\n    </tr>\n    <tr>\n      <th>1549</th>\n      <td>Hanna Isabella Algarin Diaz</td>\n    </tr>\n    <tr>\n      <th>1550</th>\n      <td>Allison Garcia Mosquera</td>\n    </tr>\n  </tbody>\n</table>\n<p>1551 rows × 1 columns</p>\n</div>"
     },
     "execution_count": 13,
     "metadata": {},
     "output_type": "execute_result"
    }
   ],
   "source": [
    "created['Full Name'] = created['First Name [Required]'] + ' ' + created['Last Name [Required]']\n",
    "downloaded['Full Name'] = downloaded['First Name [Required]'] + ' ' + downloaded['Last Name [Required]']\n",
    "\n",
    "setCreated = set(created['Full Name'])\n",
    "setDownloaded = set(downloaded['Full Name'])\n",
    "\n",
    "difference = setCreated.symmetric_difference(setDownloaded)\n",
    "\n",
    "# Convert the difference back to a DataFrame for better readability\n",
    "difference_df = pandas.DataFrame(difference, columns=['Full Name'])\n",
    "difference_df"
   ],
   "metadata": {
    "collapsed": false,
    "ExecuteTime": {
     "end_time": "2025-02-17T15:22:00.964345100Z",
     "start_time": "2025-02-17T15:22:00.956904400Z"
    }
   },
   "id": "4249ed9f0abab9c",
   "execution_count": 13
  },
  {
   "cell_type": "code",
   "outputs": [
    {
     "data": {
      "text/plain": "                                            email         status  \\\nindex                                                              \n31      luciana.castañob@iegerardovalencia.edu.co  ACTION_FAILED   \n41           avril.curep@iegerardovalencia.edu.co  ACTION_FAILED   \n44         de.gonzalezym@iegerardovalencia.edu.co  ACTION_FAILED   \n45         danelic.lugog@iegerardovalencia.edu.co  ACTION_FAILED   \n48         melany.rivasp@iegerardovalencia.edu.co  ACTION_FAILED   \n...                                           ...            ...   \n1833     santiago.viañap@iegerardovalencia.edu.co  ACTION_FAILED   \n1835   yohandry.herreras@iegerardovalencia.edu.co  ACTION_FAILED   \n1851           luis.monz@iegerardovalencia.edu.co  ACTION_FAILED   \n1868         luis.avilar@iegerardovalencia.edu.co  ACTION_FAILED   \n1869       kelvin.avilar@iegerardovalencia.edu.co  ACTION_FAILED   \n\n                   error  \nindex                     \n31     USER_NAME_INVALID  \n41      PASSWORD_INVALID  \n44      PASSWORD_INVALID  \n45      PASSWORD_INVALID  \n48      PASSWORD_INVALID  \n...                  ...  \n1833   USER_NAME_INVALID  \n1835    PASSWORD_INVALID  \n1851    PASSWORD_INVALID  \n1868    PASSWORD_INVALID  \n1869    PASSWORD_INVALID  \n\n[218 rows x 3 columns]",
      "text/html": "<div>\n<style scoped>\n    .dataframe tbody tr th:only-of-type {\n        vertical-align: middle;\n    }\n\n    .dataframe tbody tr th {\n        vertical-align: top;\n    }\n\n    .dataframe thead th {\n        text-align: right;\n    }\n</style>\n<table border=\"1\" class=\"dataframe\">\n  <thead>\n    <tr style=\"text-align: right;\">\n      <th></th>\n      <th>email</th>\n      <th>status</th>\n      <th>error</th>\n    </tr>\n    <tr>\n      <th>index</th>\n      <th></th>\n      <th></th>\n      <th></th>\n    </tr>\n  </thead>\n  <tbody>\n    <tr>\n      <th>31</th>\n      <td>luciana.castañob@iegerardovalencia.edu.co</td>\n      <td>ACTION_FAILED</td>\n      <td>USER_NAME_INVALID</td>\n    </tr>\n    <tr>\n      <th>41</th>\n      <td>avril.curep@iegerardovalencia.edu.co</td>\n      <td>ACTION_FAILED</td>\n      <td>PASSWORD_INVALID</td>\n    </tr>\n    <tr>\n      <th>44</th>\n      <td>de.gonzalezym@iegerardovalencia.edu.co</td>\n      <td>ACTION_FAILED</td>\n      <td>PASSWORD_INVALID</td>\n    </tr>\n    <tr>\n      <th>45</th>\n      <td>danelic.lugog@iegerardovalencia.edu.co</td>\n      <td>ACTION_FAILED</td>\n      <td>PASSWORD_INVALID</td>\n    </tr>\n    <tr>\n      <th>48</th>\n      <td>melany.rivasp@iegerardovalencia.edu.co</td>\n      <td>ACTION_FAILED</td>\n      <td>PASSWORD_INVALID</td>\n    </tr>\n    <tr>\n      <th>...</th>\n      <td>...</td>\n      <td>...</td>\n      <td>...</td>\n    </tr>\n    <tr>\n      <th>1833</th>\n      <td>santiago.viañap@iegerardovalencia.edu.co</td>\n      <td>ACTION_FAILED</td>\n      <td>USER_NAME_INVALID</td>\n    </tr>\n    <tr>\n      <th>1835</th>\n      <td>yohandry.herreras@iegerardovalencia.edu.co</td>\n      <td>ACTION_FAILED</td>\n      <td>PASSWORD_INVALID</td>\n    </tr>\n    <tr>\n      <th>1851</th>\n      <td>luis.monz@iegerardovalencia.edu.co</td>\n      <td>ACTION_FAILED</td>\n      <td>PASSWORD_INVALID</td>\n    </tr>\n    <tr>\n      <th>1868</th>\n      <td>luis.avilar@iegerardovalencia.edu.co</td>\n      <td>ACTION_FAILED</td>\n      <td>PASSWORD_INVALID</td>\n    </tr>\n    <tr>\n      <th>1869</th>\n      <td>kelvin.avilar@iegerardovalencia.edu.co</td>\n      <td>ACTION_FAILED</td>\n      <td>PASSWORD_INVALID</td>\n    </tr>\n  </tbody>\n</table>\n<p>218 rows × 3 columns</p>\n</div>"
     },
     "execution_count": 17,
     "metadata": {},
     "output_type": "execute_result"
    }
   ],
   "source": [
    "report = pandas.read_csv('Upload_17012025_101511.log', delimiter=':', names=['index', 'email', 'status', 'error'])\n",
    "report.set_index('index', inplace=True)\n",
    "report[report['error'].notnull()]"
   ],
   "metadata": {
    "collapsed": false,
    "ExecuteTime": {
     "end_time": "2025-02-17T15:33:34.391410300Z",
     "start_time": "2025-02-17T15:33:34.335798600Z"
    }
   },
   "id": "2a41e210d03c44f1",
   "execution_count": 17
  }
 ],
 "metadata": {
  "kernelspec": {
   "display_name": "Python 3",
   "language": "python",
   "name": "python3"
  },
  "language_info": {
   "codemirror_mode": {
    "name": "ipython",
    "version": 2
   },
   "file_extension": ".py",
   "mimetype": "text/x-python",
   "name": "python",
   "nbconvert_exporter": "python",
   "pygments_lexer": "ipython2",
   "version": "2.7.6"
  }
 },
 "nbformat": 4,
 "nbformat_minor": 5
}
