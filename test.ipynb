{
 "cells": [
  {
   "cell_type": "code",
   "execution_count": null,
   "id": "initial_id",
   "metadata": {
    "collapsed": true
   },
   "outputs": [],
   "source": []
  },
  {
   "cell_type": "code",
   "outputs": [
    {
     "name": "stdout",
     "output_type": "stream",
     "text": [
      "Index(['First Name [Required]', 'Last Name [Required]',\n",
      "       'Email Address [Required]', 'Password [Required]',\n",
      "       'Org Unit Path [Required]', 'Work Secondary Email',\n",
      "       'Recovery Phone [MUST BE IN THE E.164 FORMAT]', 'Work Phone',\n",
      "       'Change Password at Next Sign-In',\n",
      "       'Advanced Protection Program enrollment'],\n",
      "      dtype='object')\n"
     ]
    },
    {
     "data": {
      "text/plain": "    First Name [Required]      Last Name [Required]  \\\n896              RECTORIA  IE GERARDO VALENCIA CANO   \n\n              Email Address [Required] Password [Required]  \\\n896  rectoria@iegerardovalencia.edu.co                ****   \n\n    Org Unit Path [Required]      Work Secondary Email  \\\n896                        /  akrosacademico@gmail.com   \n\n     Recovery Phone [MUST BE IN THE E.164 FORMAT]    Work Phone  \\\n896                                           NaN  3.127698e+09   \n\n     Change Password at Next Sign-In  Advanced Protection Program enrollment  \n896                            False                                   False  ",
      "text/html": "<div>\n<style scoped>\n    .dataframe tbody tr th:only-of-type {\n        vertical-align: middle;\n    }\n\n    .dataframe tbody tr th {\n        vertical-align: top;\n    }\n\n    .dataframe thead th {\n        text-align: right;\n    }\n</style>\n<table border=\"1\" class=\"dataframe\">\n  <thead>\n    <tr style=\"text-align: right;\">\n      <th></th>\n      <th>First Name [Required]</th>\n      <th>Last Name [Required]</th>\n      <th>Email Address [Required]</th>\n      <th>Password [Required]</th>\n      <th>Org Unit Path [Required]</th>\n      <th>Work Secondary Email</th>\n      <th>Recovery Phone [MUST BE IN THE E.164 FORMAT]</th>\n      <th>Work Phone</th>\n      <th>Change Password at Next Sign-In</th>\n      <th>Advanced Protection Program enrollment</th>\n    </tr>\n  </thead>\n  <tbody>\n    <tr>\n      <th>896</th>\n      <td>RECTORIA</td>\n      <td>IE GERARDO VALENCIA CANO</td>\n      <td>rectoria@iegerardovalencia.edu.co</td>\n      <td>****</td>\n      <td>/</td>\n      <td>akrosacademico@gmail.com</td>\n      <td>NaN</td>\n      <td>3.127698e+09</td>\n      <td>False</td>\n      <td>False</td>\n    </tr>\n  </tbody>\n</table>\n</div>"
     },
     "execution_count": 12,
     "metadata": {},
     "output_type": "execute_result"
    }
   ],
   "source": [
    "import pandas\n",
    "\n",
    "downloaded = pandas.read_csv('users.csv')\n",
    "downloaded.dropna(axis=1, inplace=True, how='all')\n",
    "print(downloaded.columns)\n",
    "downloaded[downloaded['Work Secondary Email'].notnull()]\n"
   ],
   "metadata": {
    "collapsed": false,
    "ExecuteTime": {
     "end_time": "2025-02-17T15:21:58.413971900Z",
     "start_time": "2025-02-17T15:21:58.336013800Z"
    }
   },
   "id": "84fdd11a3d6aeca7",
   "execution_count": 12
  },
  {
   "cell_type": "code",
   "outputs": [
    {
     "data": {
      "text/plain": "  First Name [Required] Last Name [Required]  \\\n0            Aaron Zaid         Pino Cordoba   \n1           Abel Jacobo    Valencia Betancur   \n2       Abraham Eduardo        Bastidas Cova   \n3         Abraham Josue      Suarez Carrasco   \n4        Adelaida Mar a    Saldarriaga Mu oz   \n\n                            Email Address [Required] Password [Required]  \\\n0          aaron.pinoc@iemonsegerardovalencia.edu.co                ****   \n1       abel.valenciab@iemonsegerardovalencia.edu.co                ****   \n2    abraham.bastidasc@iemonsegerardovalencia.edu.co                ****   \n3      abraham.suarezc@iemonsegerardovalencia.edu.co                ****   \n4  adelaida.saldarriaga@iemonsegerardovalencia.ed...                ****   \n\n  Org Unit Path [Required] Work Secondary Email  \\\n0                        /                  NaN   \n1                        /                  NaN   \n2                        /                  NaN   \n3                        /                  NaN   \n4                        /                  NaN   \n\n   Recovery Phone [MUST BE IN THE E.164 FORMAT]  Work Phone  \\\n0                                           NaN         NaN   \n1                                           NaN         NaN   \n2                                           NaN         NaN   \n3                                           NaN         NaN   \n4                                           NaN         NaN   \n\n   Change Password at Next Sign-In  Advanced Protection Program enrollment  \n0                             True                                   False  \n1                             True                                   False  \n2                             True                                   False  \n3                             True                                   False  \n4                             True                                   False  ",
      "text/html": "<div>\n<style scoped>\n    .dataframe tbody tr th:only-of-type {\n        vertical-align: middle;\n    }\n\n    .dataframe tbody tr th {\n        vertical-align: top;\n    }\n\n    .dataframe thead th {\n        text-align: right;\n    }\n</style>\n<table border=\"1\" class=\"dataframe\">\n  <thead>\n    <tr style=\"text-align: right;\">\n      <th></th>\n      <th>First Name [Required]</th>\n      <th>Last Name [Required]</th>\n      <th>Email Address [Required]</th>\n      <th>Password [Required]</th>\n      <th>Org Unit Path [Required]</th>\n      <th>Work Secondary Email</th>\n      <th>Recovery Phone [MUST BE IN THE E.164 FORMAT]</th>\n      <th>Work Phone</th>\n      <th>Change Password at Next Sign-In</th>\n      <th>Advanced Protection Program enrollment</th>\n    </tr>\n  </thead>\n  <tbody>\n    <tr>\n      <th>0</th>\n      <td>Aaron Zaid</td>\n      <td>Pino Cordoba</td>\n      <td>aaron.pinoc@iemonsegerardovalencia.edu.co</td>\n      <td>****</td>\n      <td>/</td>\n      <td>NaN</td>\n      <td>NaN</td>\n      <td>NaN</td>\n      <td>True</td>\n      <td>False</td>\n    </tr>\n    <tr>\n      <th>1</th>\n      <td>Abel Jacobo</td>\n      <td>Valencia Betancur</td>\n      <td>abel.valenciab@iemonsegerardovalencia.edu.co</td>\n      <td>****</td>\n      <td>/</td>\n      <td>NaN</td>\n      <td>NaN</td>\n      <td>NaN</td>\n      <td>True</td>\n      <td>False</td>\n    </tr>\n    <tr>\n      <th>2</th>\n      <td>Abraham Eduardo</td>\n      <td>Bastidas Cova</td>\n      <td>abraham.bastidasc@iemonsegerardovalencia.edu.co</td>\n      <td>****</td>\n      <td>/</td>\n      <td>NaN</td>\n      <td>NaN</td>\n      <td>NaN</td>\n      <td>True</td>\n      <td>False</td>\n    </tr>\n    <tr>\n      <th>3</th>\n      <td>Abraham Josue</td>\n      <td>Suarez Carrasco</td>\n      <td>abraham.suarezc@iemonsegerardovalencia.edu.co</td>\n      <td>****</td>\n      <td>/</td>\n      <td>NaN</td>\n      <td>NaN</td>\n      <td>NaN</td>\n      <td>True</td>\n      <td>False</td>\n    </tr>\n    <tr>\n      <th>4</th>\n      <td>Adelaida Mar a</td>\n      <td>Saldarriaga Mu oz</td>\n      <td>adelaida.saldarriaga@iemonsegerardovalencia.ed...</td>\n      <td>****</td>\n      <td>/</td>\n      <td>NaN</td>\n      <td>NaN</td>\n      <td>NaN</td>\n      <td>True</td>\n      <td>False</td>\n    </tr>\n  </tbody>\n</table>\n</div>"
     },
     "execution_count": 3,
     "metadata": {},
     "output_type": "execute_result"
    }
   ],
   "source": [
    "downloaded.head()"
   ],
   "metadata": {
    "collapsed": false,
    "ExecuteTime": {
     "end_time": "2025-02-17T13:47:22.559861600Z",
     "start_time": "2025-02-17T13:47:22.530187Z"
    }
   },
   "id": "5bedf352f6adca2e",
   "execution_count": 3
  },
  {
   "cell_type": "code",
   "outputs": [
    {
     "data": {
      "text/plain": "    First Name [Required] Last Name [Required]  \\\n0                   Maily   Garcia Saldarriaga   \n1       Elianna Valentina      Lindarte Quiroz   \n2             Xavi Alonso         Medina Bravo   \n3                    Alan        Pacheco Ortiz   \n4           Angel Gabriel      Rivera Landaeta   \n..                    ...                  ...   \n278                Jacobo        Herrera Lopez   \n279              Sharlott        Herrera Lopez   \n280                 Karla          Gomez Lopez   \n281               Tiffany        Goez Grisales   \n282   Estephanie Yenibeth        Palmar Datica   \n\n                        Email Address [Required] Org Unit Path [Required]  \\\n0         maily.garcias@iegerardovalencia.edu.co                        /   \n1     elianna.lindarteq@iegerardovalencia.edu.co                        /   \n2          xavi.medinab@iegerardovalencia.edu.co                        /   \n3         alan.pachecoo@iegerardovalencia.edu.co                        /   \n4         angel.riveral@iegerardovalencia.edu.co                        /   \n..                                           ...                      ...   \n278     jacobo.herreral@iegerardovalencia.edu.co                        /   \n279   sharlott.herreral@iegerardovalencia.edu.co                        /   \n280        karla.gomezl@iegerardovalencia.edu.co                        /   \n281       tiffany.goezg@iegerardovalencia.edu.co                        /   \n282  estephanie.palmard@iegerardovalencia.edu.co                        /   \n\n     Password [Required]  Change Password at Next Sign-In  \n0             1025905634                             True  \n1                6854109                             True  \n2             1021942464                             True  \n3             1011519316                             True  \n4            37596533507                             True  \n..                   ...                              ...  \n278           1013369646                             True  \n279           1023652453                             True  \n280           1025900011                             True  \n281           1023534442                             True  \n282              6736834                             True  \n\n[283 rows x 6 columns]",
      "text/html": "<div>\n<style scoped>\n    .dataframe tbody tr th:only-of-type {\n        vertical-align: middle;\n    }\n\n    .dataframe tbody tr th {\n        vertical-align: top;\n    }\n\n    .dataframe thead th {\n        text-align: right;\n    }\n</style>\n<table border=\"1\" class=\"dataframe\">\n  <thead>\n    <tr style=\"text-align: right;\">\n      <th></th>\n      <th>First Name [Required]</th>\n      <th>Last Name [Required]</th>\n      <th>Email Address [Required]</th>\n      <th>Org Unit Path [Required]</th>\n      <th>Password [Required]</th>\n      <th>Change Password at Next Sign-In</th>\n    </tr>\n  </thead>\n  <tbody>\n    <tr>\n      <th>0</th>\n      <td>Maily</td>\n      <td>Garcia Saldarriaga</td>\n      <td>maily.garcias@iegerardovalencia.edu.co</td>\n      <td>/</td>\n      <td>1025905634</td>\n      <td>True</td>\n    </tr>\n    <tr>\n      <th>1</th>\n      <td>Elianna Valentina</td>\n      <td>Lindarte Quiroz</td>\n      <td>elianna.lindarteq@iegerardovalencia.edu.co</td>\n      <td>/</td>\n      <td>6854109</td>\n      <td>True</td>\n    </tr>\n    <tr>\n      <th>2</th>\n      <td>Xavi Alonso</td>\n      <td>Medina Bravo</td>\n      <td>xavi.medinab@iegerardovalencia.edu.co</td>\n      <td>/</td>\n      <td>1021942464</td>\n      <td>True</td>\n    </tr>\n    <tr>\n      <th>3</th>\n      <td>Alan</td>\n      <td>Pacheco Ortiz</td>\n      <td>alan.pachecoo@iegerardovalencia.edu.co</td>\n      <td>/</td>\n      <td>1011519316</td>\n      <td>True</td>\n    </tr>\n    <tr>\n      <th>4</th>\n      <td>Angel Gabriel</td>\n      <td>Rivera Landaeta</td>\n      <td>angel.riveral@iegerardovalencia.edu.co</td>\n      <td>/</td>\n      <td>37596533507</td>\n      <td>True</td>\n    </tr>\n    <tr>\n      <th>...</th>\n      <td>...</td>\n      <td>...</td>\n      <td>...</td>\n      <td>...</td>\n      <td>...</td>\n      <td>...</td>\n    </tr>\n    <tr>\n      <th>278</th>\n      <td>Jacobo</td>\n      <td>Herrera Lopez</td>\n      <td>jacobo.herreral@iegerardovalencia.edu.co</td>\n      <td>/</td>\n      <td>1013369646</td>\n      <td>True</td>\n    </tr>\n    <tr>\n      <th>279</th>\n      <td>Sharlott</td>\n      <td>Herrera Lopez</td>\n      <td>sharlott.herreral@iegerardovalencia.edu.co</td>\n      <td>/</td>\n      <td>1023652453</td>\n      <td>True</td>\n    </tr>\n    <tr>\n      <th>280</th>\n      <td>Karla</td>\n      <td>Gomez Lopez</td>\n      <td>karla.gomezl@iegerardovalencia.edu.co</td>\n      <td>/</td>\n      <td>1025900011</td>\n      <td>True</td>\n    </tr>\n    <tr>\n      <th>281</th>\n      <td>Tiffany</td>\n      <td>Goez Grisales</td>\n      <td>tiffany.goezg@iegerardovalencia.edu.co</td>\n      <td>/</td>\n      <td>1023534442</td>\n      <td>True</td>\n    </tr>\n    <tr>\n      <th>282</th>\n      <td>Estephanie Yenibeth</td>\n      <td>Palmar Datica</td>\n      <td>estephanie.palmard@iegerardovalencia.edu.co</td>\n      <td>/</td>\n      <td>6736834</td>\n      <td>True</td>\n    </tr>\n  </tbody>\n</table>\n<p>283 rows × 6 columns</p>\n</div>"
     },
     "execution_count": 29,
     "metadata": {},
     "output_type": "execute_result"
    }
   ],
   "source": [
    "created = pandas.read_csv('new_students.csv')\n",
    "created"
   ],
   "metadata": {
    "collapsed": false,
    "ExecuteTime": {
     "end_time": "2025-02-17T15:59:37.391206Z",
     "start_time": "2025-02-17T15:59:37.376454200Z"
    }
   },
   "id": "1c41ce5420c808b4",
   "execution_count": 29
  },
  {
   "cell_type": "code",
   "outputs": [
    {
     "data": {
      "text/plain": "                               Full Name\n0     Gregorio Emanuel Guerrero Sandoval\n1             I.E. Gerardo Valencia Cano\n2         Dulce Maria Castrillon Morales\n3     Leonelis Victoria Fernandez Araujo\n4                 Mariangel Avila Cortes\n...                                  ...\n1546                   Esteban Soto Juan\n1547          Juan Felipe Berrocal Genes\n1548      Roiner Santiago Carrillo Riera\n1549         Hanna Isabella Algarin Diaz\n1550             Allison Garcia Mosquera\n\n[1551 rows x 1 columns]",
      "text/html": "<div>\n<style scoped>\n    .dataframe tbody tr th:only-of-type {\n        vertical-align: middle;\n    }\n\n    .dataframe tbody tr th {\n        vertical-align: top;\n    }\n\n    .dataframe thead th {\n        text-align: right;\n    }\n</style>\n<table border=\"1\" class=\"dataframe\">\n  <thead>\n    <tr style=\"text-align: right;\">\n      <th></th>\n      <th>Full Name</th>\n    </tr>\n  </thead>\n  <tbody>\n    <tr>\n      <th>0</th>\n      <td>Gregorio Emanuel Guerrero Sandoval</td>\n    </tr>\n    <tr>\n      <th>1</th>\n      <td>I.E. Gerardo Valencia Cano</td>\n    </tr>\n    <tr>\n      <th>2</th>\n      <td>Dulce Maria Castrillon Morales</td>\n    </tr>\n    <tr>\n      <th>3</th>\n      <td>Leonelis Victoria Fernandez Araujo</td>\n    </tr>\n    <tr>\n      <th>4</th>\n      <td>Mariangel Avila Cortes</td>\n    </tr>\n    <tr>\n      <th>...</th>\n      <td>...</td>\n    </tr>\n    <tr>\n      <th>1546</th>\n      <td>Esteban Soto Juan</td>\n    </tr>\n    <tr>\n      <th>1547</th>\n      <td>Juan Felipe Berrocal Genes</td>\n    </tr>\n    <tr>\n      <th>1548</th>\n      <td>Roiner Santiago Carrillo Riera</td>\n    </tr>\n    <tr>\n      <th>1549</th>\n      <td>Hanna Isabella Algarin Diaz</td>\n    </tr>\n    <tr>\n      <th>1550</th>\n      <td>Allison Garcia Mosquera</td>\n    </tr>\n  </tbody>\n</table>\n<p>1551 rows × 1 columns</p>\n</div>"
     },
     "execution_count": 19,
     "metadata": {},
     "output_type": "execute_result"
    }
   ],
   "source": [
    "created['Full Name'] = created['First Name [Required]'] + ' ' + created['Last Name [Required]']\n",
    "downloaded['Full Name'] = downloaded['First Name [Required]'] + ' ' + downloaded['Last Name [Required]']\n",
    "\n",
    "setCreated = set(created['Full Name'])\n",
    "setDownloaded = set(downloaded['Full Name'])\n",
    "\n",
    "difference = setCreated.symmetric_difference(setDownloaded)\n",
    "\n",
    "# Convert the difference back to a DataFrame for better readability\n",
    "difference_df = pandas.DataFrame(difference, columns=['Full Name'])\n",
    "difference_df"
   ],
   "metadata": {
    "collapsed": false,
    "ExecuteTime": {
     "end_time": "2025-02-17T15:52:02.000645200Z",
     "start_time": "2025-02-17T15:52:01.988626600Z"
    }
   },
   "id": "4249ed9f0abab9c",
   "execution_count": 19
  },
  {
   "cell_type": "code",
   "outputs": [],
   "source": [
    "report = pandas.read_csv('Upload_17012025_101511.log', delimiter=':', names=['index', 'email', 'status', 'error'])\n",
    "report.set_index('index', inplace=True)\n",
    "report[report['error'].notnull()]"
   ],
   "metadata": {
    "collapsed": false,
    "ExecuteTime": {
     "end_time": "2025-02-17T15:58:53.477186300Z",
     "start_time": "2025-02-17T15:58:53.468404700Z"
    }
   },
   "id": "2a41e210d03c44f1",
   "execution_count": 26
  },
  {
   "cell_type": "code",
   "outputs": [
    {
     "data": {
      "text/plain": "   First Name [Required]    Last Name [Required]  \\\n0                Daniela        Baldovino Urieta   \n1         Catalina Maria           Varon Machado   \n2                 Andrea             Vera Guzman   \n3           Jaime Andres        Hernandez Zapata   \n4                 Esnedy         Montoya Galeano   \n..                   ...                     ...   \n69              Daiby De  Jesus Echavarria Brand   \n70          Miguel Angel         Montoya Herrera   \n71         Mauricio Leon        Ortiz Barrientos   \n72          Andres David          Ardila Montoya   \n73            Soluciones               Akros Sas   \n\n                       Email Address [Required] Password [Required]  \\\n0   daniela.baldovinou@iegerardovalencia.edu.co       DBU1001547650   \n1      catalina.varonm@iegerardovalencia.edu.co      CMVM1017123709   \n2         andrea.verag@iegerardovalencia.edu.co       AVG1017228080   \n3     jaime.hernandezz@iegerardovalencia.edu.co      JAHZ1027887566   \n4      esnedy.montoyag@iegerardovalencia.edu.co       EMG1036954038   \n..                                          ...                 ...   \n69       daiby.jesuseb@iegerardovalencia.edu.co       DDJEB71580491   \n70     miguel.montoyah@iegerardovalencia.edu.co        MAMH71670447   \n71     mauricio.ortizb@iegerardovalencia.edu.co        MLOB71782083   \n72      andres.ardilam@iegerardovalencia.edu.co         ADAM8100389   \n73   soluciones.akross@iegerardovalencia.edu.co        SAS901290331   \n\n    Change Password at Next Sign-In Org Unit Path [Required]  \n0                              True                        /  \n1                              True                        /  \n2                              True                        /  \n3                              True                        /  \n4                              True                        /  \n..                              ...                      ...  \n69                             True                        /  \n70                             True                        /  \n71                             True                        /  \n72                             True                        /  \n73                             True                        /  \n\n[74 rows x 6 columns]",
      "text/html": "<div>\n<style scoped>\n    .dataframe tbody tr th:only-of-type {\n        vertical-align: middle;\n    }\n\n    .dataframe tbody tr th {\n        vertical-align: top;\n    }\n\n    .dataframe thead th {\n        text-align: right;\n    }\n</style>\n<table border=\"1\" class=\"dataframe\">\n  <thead>\n    <tr style=\"text-align: right;\">\n      <th></th>\n      <th>First Name [Required]</th>\n      <th>Last Name [Required]</th>\n      <th>Email Address [Required]</th>\n      <th>Password [Required]</th>\n      <th>Change Password at Next Sign-In</th>\n      <th>Org Unit Path [Required]</th>\n    </tr>\n  </thead>\n  <tbody>\n    <tr>\n      <th>0</th>\n      <td>Daniela</td>\n      <td>Baldovino Urieta</td>\n      <td>daniela.baldovinou@iegerardovalencia.edu.co</td>\n      <td>DBU1001547650</td>\n      <td>True</td>\n      <td>/</td>\n    </tr>\n    <tr>\n      <th>1</th>\n      <td>Catalina Maria</td>\n      <td>Varon Machado</td>\n      <td>catalina.varonm@iegerardovalencia.edu.co</td>\n      <td>CMVM1017123709</td>\n      <td>True</td>\n      <td>/</td>\n    </tr>\n    <tr>\n      <th>2</th>\n      <td>Andrea</td>\n      <td>Vera Guzman</td>\n      <td>andrea.verag@iegerardovalencia.edu.co</td>\n      <td>AVG1017228080</td>\n      <td>True</td>\n      <td>/</td>\n    </tr>\n    <tr>\n      <th>3</th>\n      <td>Jaime Andres</td>\n      <td>Hernandez Zapata</td>\n      <td>jaime.hernandezz@iegerardovalencia.edu.co</td>\n      <td>JAHZ1027887566</td>\n      <td>True</td>\n      <td>/</td>\n    </tr>\n    <tr>\n      <th>4</th>\n      <td>Esnedy</td>\n      <td>Montoya Galeano</td>\n      <td>esnedy.montoyag@iegerardovalencia.edu.co</td>\n      <td>EMG1036954038</td>\n      <td>True</td>\n      <td>/</td>\n    </tr>\n    <tr>\n      <th>...</th>\n      <td>...</td>\n      <td>...</td>\n      <td>...</td>\n      <td>...</td>\n      <td>...</td>\n      <td>...</td>\n    </tr>\n    <tr>\n      <th>69</th>\n      <td>Daiby De</td>\n      <td>Jesus Echavarria Brand</td>\n      <td>daiby.jesuseb@iegerardovalencia.edu.co</td>\n      <td>DDJEB71580491</td>\n      <td>True</td>\n      <td>/</td>\n    </tr>\n    <tr>\n      <th>70</th>\n      <td>Miguel Angel</td>\n      <td>Montoya Herrera</td>\n      <td>miguel.montoyah@iegerardovalencia.edu.co</td>\n      <td>MAMH71670447</td>\n      <td>True</td>\n      <td>/</td>\n    </tr>\n    <tr>\n      <th>71</th>\n      <td>Mauricio Leon</td>\n      <td>Ortiz Barrientos</td>\n      <td>mauricio.ortizb@iegerardovalencia.edu.co</td>\n      <td>MLOB71782083</td>\n      <td>True</td>\n      <td>/</td>\n    </tr>\n    <tr>\n      <th>72</th>\n      <td>Andres David</td>\n      <td>Ardila Montoya</td>\n      <td>andres.ardilam@iegerardovalencia.edu.co</td>\n      <td>ADAM8100389</td>\n      <td>True</td>\n      <td>/</td>\n    </tr>\n    <tr>\n      <th>73</th>\n      <td>Soluciones</td>\n      <td>Akros Sas</td>\n      <td>soluciones.akross@iegerardovalencia.edu.co</td>\n      <td>SAS901290331</td>\n      <td>True</td>\n      <td>/</td>\n    </tr>\n  </tbody>\n</table>\n<p>74 rows × 6 columns</p>\n</div>"
     },
     "execution_count": 30,
     "metadata": {},
     "output_type": "execute_result"
    }
   ],
   "source": [
    "df = pandas.read_csv('new_teachers.csv')\n",
    "df.to_excel('new_teachers.xlsx', index=False)\n",
    "df"
   ],
   "metadata": {
    "collapsed": false,
    "ExecuteTime": {
     "end_time": "2025-02-17T16:16:12.821654500Z",
     "start_time": "2025-02-17T16:16:12.775820600Z"
    }
   },
   "id": "abd6ad5fe0ef95b9",
   "execution_count": 30
  }
 ],
 "metadata": {
  "kernelspec": {
   "display_name": "Python 3",
   "language": "python",
   "name": "python3"
  },
  "language_info": {
   "codemirror_mode": {
    "name": "ipython",
    "version": 2
   },
   "file_extension": ".py",
   "mimetype": "text/x-python",
   "name": "python",
   "nbconvert_exporter": "python",
   "pygments_lexer": "ipython2",
   "version": "2.7.6"
  }
 },
 "nbformat": 4,
 "nbformat_minor": 5
}
