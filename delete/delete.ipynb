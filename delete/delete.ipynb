{
 "cells": [
  {
   "cell_type": "code",
   "outputs": [],
   "source": [
    "import unicodedata\n",
    "def remove_tildes(text):\n",
    "    \"\"\"Removes the accents of each vowel in a text but preserves the 'ñ'.\n",
    "\n",
    "    :param str text: The text with vowels with accents.\n",
    "\n",
    "    :return str: The text without the accents.\n",
    "    \"\"\"\n",
    "    result = []\n",
    "    for char in text:\n",
    "        # Preserve 'ñ' and 'Ñ'\n",
    "        if char in {'ñ', 'Ñ'}:\n",
    "            result.append(char)\n",
    "        else:\n",
    "            # Normalize and remove accents from other characters\n",
    "            decomposed = unicodedata.normalize('NFD', char)\n",
    "            filtered = ''.join(c for c in decomposed if unicodedata.category(c) != 'Mn')\n",
    "            result.append(filtered)\n",
    "    return ''.join(result)\n",
    "\n",
    "\n",
    "def format_name(name):\n",
    "    \"\"\"\n",
    "    Format a name by removing any tildes and capitalizing the first letter.\n",
    "\n",
    "    This function removes tildes (accent marks) from characters in the name and\n",
    "    then capitalizes the first letter of the name, returning the formatted version.\n",
    "\n",
    "    :param str name: The name to be formatted.\n",
    "    :return str: The formatted name with no tildes and capitalized first letter.\n",
    "\n",
    "    :example:\n",
    "        >>> format_name('JOSÉ')\n",
    "        'Jose'\n",
    "    \"\"\"\n",
    "    return remove_tildes(name).lower()"
   ],
   "metadata": {
    "collapsed": false,
    "ExecuteTime": {
     "end_time": "2025-02-18T13:48:51.571099Z",
     "start_time": "2025-02-18T13:48:51.565856900Z"
    }
   },
   "id": "6ff445ee203cf3c7",
   "execution_count": 38
  },
  {
   "cell_type": "code",
   "execution_count": 48,
   "id": "initial_id",
   "metadata": {
    "collapsed": true,
    "ExecuteTime": {
     "end_time": "2025-02-18T13:52:49.160460900Z",
     "start_time": "2025-02-18T13:52:49.087329200Z"
    }
   },
   "outputs": [
    {
     "data": {
      "text/plain": "0          atehortua mira david esteban\n1        cañas camargo gloria esperanza\n2                       edwin rodriguez\n3         estrada quiroz manuel antonio\n4                    garcia sierra sara\n5               gaviria palacio natalia\n6          giraldo orozco jesus huberto\n7               giraldo rios juan pablo\n8           giraldo villa oscar alberto\n9      gutierrez ramirez jose francisco\n10       hernandez henao cristian david\n11    hernandez morales gustavo alberto\n12             juan carlos mesa ramirez\n13        londoño arboleda adriana ines\n14           londoño zapata luis alonso\n15                 maiza abadia bonilla\n16     montoya montoya edson alessandro\n17                  muñoz diana marcela\n18             muñoz zapata julio cesar\n19                ospina gomez yennifer\n20          padilla castro albeiro jose\n21             patricia machado sanchez\n22             piedrahita ortiz valeria\n23       ramirez mendoza leydi carolina\n24        ramirez robledo beatriz elena\n25                 restrepo arango raul\n26             restrepo rios dora lucia\n27      rivero giraldo francis migdalia\n28            rojas hurtado julio cesar\n29                    sandra maria mesa\n30                  santa silva lisiria\n31                     soluciones akros\n32                 tatiana duran ocampo\n33          vargas piedrahita alexander\n34         vasquez franco daniel felipe\n35            villa perez martha alicia\n36         yamile cristina sierra serna\nName: Nombre, dtype: object"
     },
     "execution_count": 48,
     "metadata": {},
     "output_type": "execute_result"
    }
   ],
   "source": [
    "import pandas as pd\n",
    "\n",
    "to_be_deleted = pd.read_excel('delete_lola.xlsx')\n",
    "to_be_deleted.drop(['Grado', 'GRUPO', 'Codigo'], axis=1, inplace=True)\n",
    "to_be_deleted = to_be_deleted[to_be_deleted.isna().any(axis=1)]\n",
    "to_be_deleted.reset_index(drop=True, inplace=True)\n",
    "\n",
    "to_be_deleted['Nombre'] = to_be_deleted['Nombre'].map(format_name).str.strip()\n",
    "to_be_deleted['Nombre']"
   ]
  },
  {
   "cell_type": "code",
   "outputs": [
    {
     "data": {
      "text/plain": "     First Name [Required] Last Name [Required]  \\\n0                ADALISMAR         GUERRA REINA   \n1                ALEJANDRO      MONSALVE RENDON   \n2                  ALISSON      GARCIA BETANCUR   \n3       ARIANNYS VALENTINA         TORRES VIVAS   \n4         CAMILA VALENTINA         PINEDA BRAVO   \n...                    ...                  ...   \n4812            ZOE ZAMARA      BOLIVAR URREGO    \n4813      ZULY DEL SOCORRO     MUÑOZ BUSTAMANTE   \n4814            ZURI SARAY       ORREGO ARRIETA   \n4815       Ángela Gabriela    Jaramillo Zuluaga   \n4816        ÓSCAR MAURICIO         OSSA AGUIRRE   \n\n              Email Address [Required] Status [READ ONLY]  \\\n0       adalismar.guerrare@lola.edu.co             Active   \n1     alejandro.monsalvere@lola.edu.co             Active   \n2         alisson.garciabe@lola.edu.co             Active   \n3       arriannys.torresvi@lola.edu.co             Active   \n4          camila.pinedabr@lola.edu.co             Active   \n...                                ...                ...   \n4812         zoe.bolivarur@lola.edu.co             Active   \n4813              zuly.paz@lola.edu.co             Active   \n4814         zuri.orregoar@lola.edu.co             Active   \n4815            angela.pta@lola.edu.co             Active   \n4816    mauricio.filosofia@lola.edu.co             Active   \n\n     Last Sign In [READ ONLY] Email Usage [READ ONLY]  \\\n0         2025/02/07 04:06:00                   0.0GB   \n1         2025/02/11 03:32:55                   0.0GB   \n2         2025/02/10 05:56:19                   0.0GB   \n3             Never logged in                   0.0GB   \n4         2025/02/12 07:31:54                   0.0GB   \n...                       ...                     ...   \n4812          Never logged in                   0.0GB   \n4813      2025/02/14 08:43:43                  4.78GB   \n4814      2025/02/14 20:39:47                  0.54GB   \n4815      2023/03/03 07:53:37                  1.53GB   \n4816      2025/02/11 11:56:01                  3.55GB   \n\n                            Full name R                          Full name  \n0                guerra reina adalismar             adalismar guerra reina  \n1             monsalve rendon alejandro          alejandro monsalve rendon  \n2               garcia betancur alisson            alisson garcia betancur  \n3       torres vivas ariannys valentina    ariannys valentina torres vivas  \n4         pineda bravo camila valentina      camila valentina pineda bravo  \n...                                 ...                                ...  \n4812         bolivar urrego  zoe zamara         zoe zamara bolivar urrego   \n4813  muñoz bustamante zuly del socorro  zuly del socorro muñoz bustamante  \n4814          orrego arrieta zuri saray          zuri saray orrego arrieta  \n4815  jaramillo zuluaga angela gabriela  angela gabriela jaramillo zuluaga  \n4816        ossa aguirre oscar mauricio        oscar mauricio ossa aguirre  \n\n[4817 rows x 8 columns]",
      "text/html": "<div>\n<style scoped>\n    .dataframe tbody tr th:only-of-type {\n        vertical-align: middle;\n    }\n\n    .dataframe tbody tr th {\n        vertical-align: top;\n    }\n\n    .dataframe thead th {\n        text-align: right;\n    }\n</style>\n<table border=\"1\" class=\"dataframe\">\n  <thead>\n    <tr style=\"text-align: right;\">\n      <th></th>\n      <th>First Name [Required]</th>\n      <th>Last Name [Required]</th>\n      <th>Email Address [Required]</th>\n      <th>Status [READ ONLY]</th>\n      <th>Last Sign In [READ ONLY]</th>\n      <th>Email Usage [READ ONLY]</th>\n      <th>Full name R</th>\n      <th>Full name</th>\n    </tr>\n  </thead>\n  <tbody>\n    <tr>\n      <th>0</th>\n      <td>ADALISMAR</td>\n      <td>GUERRA REINA</td>\n      <td>adalismar.guerrare@lola.edu.co</td>\n      <td>Active</td>\n      <td>2025/02/07 04:06:00</td>\n      <td>0.0GB</td>\n      <td>guerra reina adalismar</td>\n      <td>adalismar guerra reina</td>\n    </tr>\n    <tr>\n      <th>1</th>\n      <td>ALEJANDRO</td>\n      <td>MONSALVE RENDON</td>\n      <td>alejandro.monsalvere@lola.edu.co</td>\n      <td>Active</td>\n      <td>2025/02/11 03:32:55</td>\n      <td>0.0GB</td>\n      <td>monsalve rendon alejandro</td>\n      <td>alejandro monsalve rendon</td>\n    </tr>\n    <tr>\n      <th>2</th>\n      <td>ALISSON</td>\n      <td>GARCIA BETANCUR</td>\n      <td>alisson.garciabe@lola.edu.co</td>\n      <td>Active</td>\n      <td>2025/02/10 05:56:19</td>\n      <td>0.0GB</td>\n      <td>garcia betancur alisson</td>\n      <td>alisson garcia betancur</td>\n    </tr>\n    <tr>\n      <th>3</th>\n      <td>ARIANNYS VALENTINA</td>\n      <td>TORRES VIVAS</td>\n      <td>arriannys.torresvi@lola.edu.co</td>\n      <td>Active</td>\n      <td>Never logged in</td>\n      <td>0.0GB</td>\n      <td>torres vivas ariannys valentina</td>\n      <td>ariannys valentina torres vivas</td>\n    </tr>\n    <tr>\n      <th>4</th>\n      <td>CAMILA VALENTINA</td>\n      <td>PINEDA BRAVO</td>\n      <td>camila.pinedabr@lola.edu.co</td>\n      <td>Active</td>\n      <td>2025/02/12 07:31:54</td>\n      <td>0.0GB</td>\n      <td>pineda bravo camila valentina</td>\n      <td>camila valentina pineda bravo</td>\n    </tr>\n    <tr>\n      <th>...</th>\n      <td>...</td>\n      <td>...</td>\n      <td>...</td>\n      <td>...</td>\n      <td>...</td>\n      <td>...</td>\n      <td>...</td>\n      <td>...</td>\n    </tr>\n    <tr>\n      <th>4812</th>\n      <td>ZOE ZAMARA</td>\n      <td>BOLIVAR URREGO</td>\n      <td>zoe.bolivarur@lola.edu.co</td>\n      <td>Active</td>\n      <td>Never logged in</td>\n      <td>0.0GB</td>\n      <td>bolivar urrego  zoe zamara</td>\n      <td>zoe zamara bolivar urrego</td>\n    </tr>\n    <tr>\n      <th>4813</th>\n      <td>ZULY DEL SOCORRO</td>\n      <td>MUÑOZ BUSTAMANTE</td>\n      <td>zuly.paz@lola.edu.co</td>\n      <td>Active</td>\n      <td>2025/02/14 08:43:43</td>\n      <td>4.78GB</td>\n      <td>muñoz bustamante zuly del socorro</td>\n      <td>zuly del socorro muñoz bustamante</td>\n    </tr>\n    <tr>\n      <th>4814</th>\n      <td>ZURI SARAY</td>\n      <td>ORREGO ARRIETA</td>\n      <td>zuri.orregoar@lola.edu.co</td>\n      <td>Active</td>\n      <td>2025/02/14 20:39:47</td>\n      <td>0.54GB</td>\n      <td>orrego arrieta zuri saray</td>\n      <td>zuri saray orrego arrieta</td>\n    </tr>\n    <tr>\n      <th>4815</th>\n      <td>Ángela Gabriela</td>\n      <td>Jaramillo Zuluaga</td>\n      <td>angela.pta@lola.edu.co</td>\n      <td>Active</td>\n      <td>2023/03/03 07:53:37</td>\n      <td>1.53GB</td>\n      <td>jaramillo zuluaga angela gabriela</td>\n      <td>angela gabriela jaramillo zuluaga</td>\n    </tr>\n    <tr>\n      <th>4816</th>\n      <td>ÓSCAR MAURICIO</td>\n      <td>OSSA AGUIRRE</td>\n      <td>mauricio.filosofia@lola.edu.co</td>\n      <td>Active</td>\n      <td>2025/02/11 11:56:01</td>\n      <td>3.55GB</td>\n      <td>ossa aguirre oscar mauricio</td>\n      <td>oscar mauricio ossa aguirre</td>\n    </tr>\n  </tbody>\n</table>\n<p>4817 rows × 8 columns</p>\n</div>"
     },
     "execution_count": 49,
     "metadata": {},
     "output_type": "execute_result"
    }
   ],
   "source": [
    "downloaded = pd.read_csv('../in/users_lola.csv')\n",
    "downloaded['Full name R'] = downloaded['Last Name [Required]'] + ' ' + downloaded['First Name [Required]'].str.strip()\n",
    "downloaded['Full name'] = downloaded['First Name [Required]'] + ' ' + downloaded['Last Name [Required]']\n",
    "downloaded['Full name'] = downloaded['Full name'].map(format_name)\n",
    "downloaded['Full name R'] = downloaded['Full name R'].map(format_name)\n",
    "downloaded"
   ],
   "metadata": {
    "collapsed": false,
    "ExecuteTime": {
     "end_time": "2025-02-18T13:52:51.064175Z",
     "start_time": "2025-02-18T13:52:50.939764900Z"
    }
   },
   "id": "c8ee817b82aaff0c",
   "execution_count": 49
  },
  {
   "cell_type": "code",
   "outputs": [
    {
     "data": {
      "text/plain": "   First Name [Required] Last Name [Required]  \\\n0           ADRIANA INÉS     LONDOÑO ARBOLEDA   \n1           ALBEIRO JOSE       PADILLA CASTRO   \n2          BEATRIZ ELENA      RAMIREZ ROBLEDO   \n3         Cristian David      Hernández Henao   \n4          Daniel Felipe       Vásquez Franco   \n5          david esteban       atehortua mira   \n6             DORA LUCÍA        RESTREPO RÍOS   \n7       EDSON ALESSANDRO      MONTOYA MONTOYA   \n8       FRANCIS MIGDALIA       RIVERO GIRALDO   \n9       Gloria Esperanza        Cañas Camargo   \n10       GUSTAVO ALBERTO    HERNÁNDEZ MORALES   \n11         JESUS HUBERTO       GIRALDO OROZCO   \n12        JOSE FRANCISCO    GUTIERREZ RAMIREZ   \n13           JULIO CESAR        ROJAS HURTADO   \n14           JULIO CESAR         MUÑOZ ZAPATA   \n15           LUIS ALONSO       LONDOÑO ZAPATA   \n16        MANUEL ANTONIO       ESTRADA QUIROZ   \n17         MARTHA ALICIA          VILLA PEREZ   \n18         oscar alberto        giraldo villa   \n19                  RAUL      RESTREPO ARANGO   \n20              YENNIFER         OSPINA GOMEZ   \n21                 Maiza       Abadía Bonilla   \n22              PATRICIA      MACHADO SANCHEZ   \n23       YAMILE CRISTINA         SIERRA SERNA   \n\n                Email Address [Required] New Status [Upload Only]  \n0          adriana.artistica@lola.edu.co                Suspended  \n1   albeiro.cienciassociales@lola.edu.co                Suspended  \n2        beatrize.santalucia@lola.edu.co                Suspended  \n3          cristian.religion@lola.edu.co                Suspended  \n4         daniel.matematicas@lola.edu.co                Suspended  \n5             david.religion@lola.edu.co                Suspended  \n6     doralucia.coordinadora@lola.edu.co                Suspended  \n7           edson.tecnologia@lola.edu.co                Suspended  \n8         francis.santalucia@lola.edu.co                Suspended  \n9         gloria.matematicas@lola.edu.co                Suspended  \n10        gustavo.santalucia@lola.edu.co                Suspended  \n11            huberto.rector@lola.edu.co                Suspended  \n12            jose.filosofia@lola.edu.co                Suspended  \n13              julio.ingles@lola.edu.co                Suspended  \n14         julio.matematicas@lola.edu.co                Suspended  \n15      luisalonso.artistica@lola.edu.co                Suspended  \n16        manuel.matematicas@lola.edu.co                Suspended  \n17        marthaa.santalucia@lola.edu.co                Suspended  \n18              oscar.ingles@lola.edu.co                Suspended  \n19          raul.matematicas@lola.edu.co                Suspended  \n20             yennifer.peep@lola.edu.co                Suspended  \n21         maiza.matematicas@lola.edu.co                Suspended  \n22       patricia.secretaria@lola.edu.co                Suspended  \n23       cristina.secretaria@lola.edu.co                Suspended  ",
      "text/html": "<div>\n<style scoped>\n    .dataframe tbody tr th:only-of-type {\n        vertical-align: middle;\n    }\n\n    .dataframe tbody tr th {\n        vertical-align: top;\n    }\n\n    .dataframe thead th {\n        text-align: right;\n    }\n</style>\n<table border=\"1\" class=\"dataframe\">\n  <thead>\n    <tr style=\"text-align: right;\">\n      <th></th>\n      <th>First Name [Required]</th>\n      <th>Last Name [Required]</th>\n      <th>Email Address [Required]</th>\n      <th>New Status [Upload Only]</th>\n    </tr>\n  </thead>\n  <tbody>\n    <tr>\n      <th>0</th>\n      <td>ADRIANA INÉS</td>\n      <td>LONDOÑO ARBOLEDA</td>\n      <td>adriana.artistica@lola.edu.co</td>\n      <td>Suspended</td>\n    </tr>\n    <tr>\n      <th>1</th>\n      <td>ALBEIRO JOSE</td>\n      <td>PADILLA CASTRO</td>\n      <td>albeiro.cienciassociales@lola.edu.co</td>\n      <td>Suspended</td>\n    </tr>\n    <tr>\n      <th>2</th>\n      <td>BEATRIZ ELENA</td>\n      <td>RAMIREZ ROBLEDO</td>\n      <td>beatrize.santalucia@lola.edu.co</td>\n      <td>Suspended</td>\n    </tr>\n    <tr>\n      <th>3</th>\n      <td>Cristian David</td>\n      <td>Hernández Henao</td>\n      <td>cristian.religion@lola.edu.co</td>\n      <td>Suspended</td>\n    </tr>\n    <tr>\n      <th>4</th>\n      <td>Daniel Felipe</td>\n      <td>Vásquez Franco</td>\n      <td>daniel.matematicas@lola.edu.co</td>\n      <td>Suspended</td>\n    </tr>\n    <tr>\n      <th>5</th>\n      <td>david esteban</td>\n      <td>atehortua mira</td>\n      <td>david.religion@lola.edu.co</td>\n      <td>Suspended</td>\n    </tr>\n    <tr>\n      <th>6</th>\n      <td>DORA LUCÍA</td>\n      <td>RESTREPO RÍOS</td>\n      <td>doralucia.coordinadora@lola.edu.co</td>\n      <td>Suspended</td>\n    </tr>\n    <tr>\n      <th>7</th>\n      <td>EDSON ALESSANDRO</td>\n      <td>MONTOYA MONTOYA</td>\n      <td>edson.tecnologia@lola.edu.co</td>\n      <td>Suspended</td>\n    </tr>\n    <tr>\n      <th>8</th>\n      <td>FRANCIS MIGDALIA</td>\n      <td>RIVERO GIRALDO</td>\n      <td>francis.santalucia@lola.edu.co</td>\n      <td>Suspended</td>\n    </tr>\n    <tr>\n      <th>9</th>\n      <td>Gloria Esperanza</td>\n      <td>Cañas Camargo</td>\n      <td>gloria.matematicas@lola.edu.co</td>\n      <td>Suspended</td>\n    </tr>\n    <tr>\n      <th>10</th>\n      <td>GUSTAVO ALBERTO</td>\n      <td>HERNÁNDEZ MORALES</td>\n      <td>gustavo.santalucia@lola.edu.co</td>\n      <td>Suspended</td>\n    </tr>\n    <tr>\n      <th>11</th>\n      <td>JESUS HUBERTO</td>\n      <td>GIRALDO OROZCO</td>\n      <td>huberto.rector@lola.edu.co</td>\n      <td>Suspended</td>\n    </tr>\n    <tr>\n      <th>12</th>\n      <td>JOSE FRANCISCO</td>\n      <td>GUTIERREZ RAMIREZ</td>\n      <td>jose.filosofia@lola.edu.co</td>\n      <td>Suspended</td>\n    </tr>\n    <tr>\n      <th>13</th>\n      <td>JULIO CESAR</td>\n      <td>ROJAS HURTADO</td>\n      <td>julio.ingles@lola.edu.co</td>\n      <td>Suspended</td>\n    </tr>\n    <tr>\n      <th>14</th>\n      <td>JULIO CESAR</td>\n      <td>MUÑOZ ZAPATA</td>\n      <td>julio.matematicas@lola.edu.co</td>\n      <td>Suspended</td>\n    </tr>\n    <tr>\n      <th>15</th>\n      <td>LUIS ALONSO</td>\n      <td>LONDOÑO ZAPATA</td>\n      <td>luisalonso.artistica@lola.edu.co</td>\n      <td>Suspended</td>\n    </tr>\n    <tr>\n      <th>16</th>\n      <td>MANUEL ANTONIO</td>\n      <td>ESTRADA QUIROZ</td>\n      <td>manuel.matematicas@lola.edu.co</td>\n      <td>Suspended</td>\n    </tr>\n    <tr>\n      <th>17</th>\n      <td>MARTHA ALICIA</td>\n      <td>VILLA PEREZ</td>\n      <td>marthaa.santalucia@lola.edu.co</td>\n      <td>Suspended</td>\n    </tr>\n    <tr>\n      <th>18</th>\n      <td>oscar alberto</td>\n      <td>giraldo villa</td>\n      <td>oscar.ingles@lola.edu.co</td>\n      <td>Suspended</td>\n    </tr>\n    <tr>\n      <th>19</th>\n      <td>RAUL</td>\n      <td>RESTREPO ARANGO</td>\n      <td>raul.matematicas@lola.edu.co</td>\n      <td>Suspended</td>\n    </tr>\n    <tr>\n      <th>20</th>\n      <td>YENNIFER</td>\n      <td>OSPINA GOMEZ</td>\n      <td>yennifer.peep@lola.edu.co</td>\n      <td>Suspended</td>\n    </tr>\n    <tr>\n      <th>21</th>\n      <td>Maiza</td>\n      <td>Abadía Bonilla</td>\n      <td>maiza.matematicas@lola.edu.co</td>\n      <td>Suspended</td>\n    </tr>\n    <tr>\n      <th>22</th>\n      <td>PATRICIA</td>\n      <td>MACHADO SANCHEZ</td>\n      <td>patricia.secretaria@lola.edu.co</td>\n      <td>Suspended</td>\n    </tr>\n    <tr>\n      <th>23</th>\n      <td>YAMILE CRISTINA</td>\n      <td>SIERRA SERNA</td>\n      <td>cristina.secretaria@lola.edu.co</td>\n      <td>Suspended</td>\n    </tr>\n  </tbody>\n</table>\n</div>"
     },
     "execution_count": 58,
     "metadata": {},
     "output_type": "execute_result"
    }
   ],
   "source": [
    "# Keep only rows in 'downloaded' where 'Full name' matches 'Nombre' in 'to_be_deleted'\n",
    "# First merge\n",
    "deletable_1 = downloaded.merge(to_be_deleted[['Nombre']], left_on='Full name R', right_on='Nombre', how='inner')\n",
    "\n",
    "# Second merge\n",
    "deletable_2 = downloaded.merge(to_be_deleted[['Nombre']], left_on='Full name', right_on='Nombre', how='inner')\n",
    "\n",
    "# Combine both results into one DataFrame\n",
    "deletable = pd.concat([deletable_1, deletable_2]).drop_duplicates().reset_index(drop=True)\n",
    "\n",
    "\n",
    "deletable.drop(columns=['Status [READ ONLY]','Last Sign In [READ ONLY]', 'Email Usage [READ ONLY]', 'Full name R', 'Full name', 'Nombre'], inplace=True)\n",
    "deletable['New Status [Upload Only]'] = 'Suspended'\n",
    "deletable.to_csv('deletable.csv', index=False)\n",
    "deletable"
   ],
   "metadata": {
    "collapsed": false,
    "ExecuteTime": {
     "end_time": "2025-02-18T14:01:39.137632800Z",
     "start_time": "2025-02-18T14:01:39.120612Z"
    }
   },
   "id": "e366d9cb3764c814",
   "execution_count": 58
  },
  {
   "cell_type": "code",
   "outputs": [
    {
     "data": {
      "text/plain": "Empty DataFrame\nColumns: [First Name [Required], Last Name [Required], Email Address [Required], Password [Required], Password Hash Function [UPLOAD ONLY], Org Unit Path [Required], New Primary Email [UPLOAD ONLY], Recovery Email, Home Secondary Email, Work Secondary Email, Recovery Phone [MUST BE IN THE E.164 FORMAT], Work Phone, Home Phone, Mobile Phone, Work Address, Home Address, Employee ID, Employee Type, Employee Title, Manager Email, Department, Cost Center, Building ID, Floor Name, Floor Section, Change Password at Next Sign-In, New Status [UPLOAD ONLY], Advanced Protection Program enrollment]\nIndex: []\n\n[0 rows x 28 columns]",
      "text/html": "<div>\n<style scoped>\n    .dataframe tbody tr th:only-of-type {\n        vertical-align: middle;\n    }\n\n    .dataframe tbody tr th {\n        vertical-align: top;\n    }\n\n    .dataframe thead th {\n        text-align: right;\n    }\n</style>\n<table border=\"1\" class=\"dataframe\">\n  <thead>\n    <tr style=\"text-align: right;\">\n      <th></th>\n      <th>First Name [Required]</th>\n      <th>Last Name [Required]</th>\n      <th>Email Address [Required]</th>\n      <th>Password [Required]</th>\n      <th>Password Hash Function [UPLOAD ONLY]</th>\n      <th>Org Unit Path [Required]</th>\n      <th>New Primary Email [UPLOAD ONLY]</th>\n      <th>Recovery Email</th>\n      <th>Home Secondary Email</th>\n      <th>Work Secondary Email</th>\n      <th>...</th>\n      <th>Employee Title</th>\n      <th>Manager Email</th>\n      <th>Department</th>\n      <th>Cost Center</th>\n      <th>Building ID</th>\n      <th>Floor Name</th>\n      <th>Floor Section</th>\n      <th>Change Password at Next Sign-In</th>\n      <th>New Status [UPLOAD ONLY]</th>\n      <th>Advanced Protection Program enrollment</th>\n    </tr>\n  </thead>\n  <tbody>\n  </tbody>\n</table>\n<p>0 rows × 28 columns</p>\n</div>"
     },
     "execution_count": 53,
     "metadata": {},
     "output_type": "execute_result"
    }
   ],
   "source": [],
   "metadata": {
    "collapsed": false,
    "ExecuteTime": {
     "end_time": "2025-02-18T13:55:03.546676900Z",
     "start_time": "2025-02-18T13:55:03.517224900Z"
    }
   },
   "id": "8062360da8fdcfb8",
   "execution_count": 53
  },
  {
   "cell_type": "code",
   "outputs": [
    {
     "data": {
      "text/plain": "                            Nombre Correo\n2                  edwin rodriguez    NaN\n4               garcia sierra sara    NaN\n5          gaviria palacio natalia    NaN\n7          giraldo rios juan pablo    NaN\n12        juan carlos mesa ramirez    NaN\n17             muñoz diana marcela    NaN\n22        piedrahita ortiz valeria    NaN\n23  ramirez mendoza leydi carolina    NaN\n29               sandra maria mesa    NaN\n30             santa silva lisiria    NaN\n31                soluciones akros    NaN\n32            tatiana duran ocampo    NaN\n33     vargas piedrahita alexander    NaN",
      "text/html": "<div>\n<style scoped>\n    .dataframe tbody tr th:only-of-type {\n        vertical-align: middle;\n    }\n\n    .dataframe tbody tr th {\n        vertical-align: top;\n    }\n\n    .dataframe thead th {\n        text-align: right;\n    }\n</style>\n<table border=\"1\" class=\"dataframe\">\n  <thead>\n    <tr style=\"text-align: right;\">\n      <th></th>\n      <th>Nombre</th>\n      <th>Correo</th>\n    </tr>\n  </thead>\n  <tbody>\n    <tr>\n      <th>2</th>\n      <td>edwin rodriguez</td>\n      <td>NaN</td>\n    </tr>\n    <tr>\n      <th>4</th>\n      <td>garcia sierra sara</td>\n      <td>NaN</td>\n    </tr>\n    <tr>\n      <th>5</th>\n      <td>gaviria palacio natalia</td>\n      <td>NaN</td>\n    </tr>\n    <tr>\n      <th>7</th>\n      <td>giraldo rios juan pablo</td>\n      <td>NaN</td>\n    </tr>\n    <tr>\n      <th>12</th>\n      <td>juan carlos mesa ramirez</td>\n      <td>NaN</td>\n    </tr>\n    <tr>\n      <th>17</th>\n      <td>muñoz diana marcela</td>\n      <td>NaN</td>\n    </tr>\n    <tr>\n      <th>22</th>\n      <td>piedrahita ortiz valeria</td>\n      <td>NaN</td>\n    </tr>\n    <tr>\n      <th>23</th>\n      <td>ramirez mendoza leydi carolina</td>\n      <td>NaN</td>\n    </tr>\n    <tr>\n      <th>29</th>\n      <td>sandra maria mesa</td>\n      <td>NaN</td>\n    </tr>\n    <tr>\n      <th>30</th>\n      <td>santa silva lisiria</td>\n      <td>NaN</td>\n    </tr>\n    <tr>\n      <th>31</th>\n      <td>soluciones akros</td>\n      <td>NaN</td>\n    </tr>\n    <tr>\n      <th>32</th>\n      <td>tatiana duran ocampo</td>\n      <td>NaN</td>\n    </tr>\n    <tr>\n      <th>33</th>\n      <td>vargas piedrahita alexander</td>\n      <td>NaN</td>\n    </tr>\n  </tbody>\n</table>\n</div>"
     },
     "execution_count": 52,
     "metadata": {},
     "output_type": "execute_result"
    }
   ],
   "source": [
    "# Get rows in 'to_be_deleted' that are NOT in 'deletable'\n",
    "not_in_deletable = to_be_deleted[~to_be_deleted['Nombre'].isin(deletable['Nombre'])]\n",
    "not_in_deletable"
   ],
   "metadata": {
    "collapsed": false,
    "ExecuteTime": {
     "end_time": "2025-02-18T13:54:15.101138Z",
     "start_time": "2025-02-18T13:54:15.097614900Z"
    }
   },
   "id": "d506d62665b6f8d6",
   "execution_count": 52
  }
 ],
 "metadata": {
  "kernelspec": {
   "display_name": "Python 3",
   "language": "python",
   "name": "python3"
  },
  "language_info": {
   "codemirror_mode": {
    "name": "ipython",
    "version": 2
   },
   "file_extension": ".py",
   "mimetype": "text/x-python",
   "name": "python",
   "nbconvert_exporter": "python",
   "pygments_lexer": "ipython2",
   "version": "2.7.6"
  }
 },
 "nbformat": 4,
 "nbformat_minor": 5
}
